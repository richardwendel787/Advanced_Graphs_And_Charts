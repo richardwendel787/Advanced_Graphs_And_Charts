{
 "cells": [
  {
   "cell_type": "code",
   "execution_count": 1,
   "metadata": {},
   "outputs": [],
   "source": [
    "# Import dependencies\n",
    "import pandas as pd\n",
    "import numpy as np"
   ]
  },
  {
   "cell_type": "code",
   "execution_count": 2,
   "metadata": {},
   "outputs": [],
   "source": [
    "# Load raw data file into DataFrame\n",
    "data_df = pd.read_csv('Resources/nyc-dog-licensing-dataset-1.csv')"
   ]
  },
  {
   "cell_type": "code",
   "execution_count": 3,
   "metadata": {},
   "outputs": [],
   "source": [
    "# Add 'Year' column using parsed year from 'LicenseIssuedDate'\n",
    "data_df['Year'] = pd.DatetimeIndex(data_df['LicenseIssuedDate']).year"
   ]
  },
  {
   "cell_type": "code",
   "execution_count": 4,
   "metadata": {},
   "outputs": [],
   "source": [
    "# Filter to only records with 'Year' 2016\n",
    "data_2016_df = data_df.loc[data_df['Year']==2016, :]"
   ]
  },
  {
   "cell_type": "code",
   "execution_count": 5,
   "metadata": {},
   "outputs": [
    {
     "data": {
      "text/html": [
       "<div>\n",
       "<style scoped>\n",
       "    .dataframe tbody tr th:only-of-type {\n",
       "        vertical-align: middle;\n",
       "    }\n",
       "\n",
       "    .dataframe tbody tr th {\n",
       "        vertical-align: top;\n",
       "    }\n",
       "\n",
       "    .dataframe thead th {\n",
       "        text-align: right;\n",
       "    }\n",
       "</style>\n",
       "<table border=\"1\" class=\"dataframe\">\n",
       "  <thead>\n",
       "    <tr style=\"text-align: right;\">\n",
       "      <th></th>\n",
       "      <th>RowNumber</th>\n",
       "      <th>AnimalGender</th>\n",
       "      <th>BreedName</th>\n",
       "      <th>Borough</th>\n",
       "      <th>ZipCode</th>\n",
       "    </tr>\n",
       "  </thead>\n",
       "  <tbody>\n",
       "    <tr>\n",
       "      <td>45</td>\n",
       "      <td>47793</td>\n",
       "      <td>F</td>\n",
       "      <td>Chow Chow</td>\n",
       "      <td>Queens</td>\n",
       "      <td>11385</td>\n",
       "    </tr>\n",
       "    <tr>\n",
       "      <td>46</td>\n",
       "      <td>48071</td>\n",
       "      <td>M</td>\n",
       "      <td>Pug</td>\n",
       "      <td>Queens</td>\n",
       "      <td>11357</td>\n",
       "    </tr>\n",
       "    <tr>\n",
       "      <td>47</td>\n",
       "      <td>50583</td>\n",
       "      <td>F</td>\n",
       "      <td>Pug</td>\n",
       "      <td>Manhattan</td>\n",
       "      <td>10003</td>\n",
       "    </tr>\n",
       "    <tr>\n",
       "      <td>48</td>\n",
       "      <td>52086</td>\n",
       "      <td>M</td>\n",
       "      <td>Unknown</td>\n",
       "      <td>Bronx</td>\n",
       "      <td>10456</td>\n",
       "    </tr>\n",
       "    <tr>\n",
       "      <td>49</td>\n",
       "      <td>52822</td>\n",
       "      <td>M</td>\n",
       "      <td>Unknown</td>\n",
       "      <td>Bronx</td>\n",
       "      <td>10473</td>\n",
       "    </tr>\n",
       "  </tbody>\n",
       "</table>\n",
       "</div>"
      ],
      "text/plain": [
       "    RowNumber AnimalGender  BreedName    Borough  ZipCode\n",
       "45      47793            F  Chow Chow     Queens    11385\n",
       "46      48071            M        Pug     Queens    11357\n",
       "47      50583            F        Pug  Manhattan    10003\n",
       "48      52086            M    Unknown      Bronx    10456\n",
       "49      52822            M    Unknown      Bronx    10473"
      ]
     },
     "execution_count": 5,
     "metadata": {},
     "output_type": "execute_result"
    }
   ],
   "source": [
    "# Limit to columns of interest, to records without ' ' or null values\n",
    "condensed_2016_df = data_2016_df[['RowNumber', 'AnimalGender', 'BreedName', 'Borough', 'ZipCode']].copy()\n",
    "condensed_2016_df.replace(' ', np.nan, inplace=True)\n",
    "condensed_2016_df.dropna(how='any', inplace=True)\n",
    "condensed_2016_df['ZipCode'] = condensed_2016_df['ZipCode'].astype(int)\n",
    "condensed_2016_df.head()"
   ]
  },
  {
   "cell_type": "code",
   "execution_count": 6,
   "metadata": {},
   "outputs": [],
   "source": [
    "# Gather unique values of BreedName and export for review\n",
    "unique_breeds = condensed_2016_df['BreedName'].sort_values().unique()\n",
    "unique_breeds_df = pd.DataFrame(unique_breeds)\n",
    "unique_breeds_df.to_csv('Resources/breed_list_raw.csv', index=False, header=False)"
   ]
  },
  {
   "cell_type": "code",
   "execution_count": 7,
   "metadata": {},
   "outputs": [],
   "source": [
    "# Clean up BreedName values\n",
    "condensed_2016_df['BreedName'].replace({\n",
    "    'Australian Cattledog': 'Australian Cattle Dog',\n",
    "    'Australian Silky Terrier': 'Silky Terrier',\n",
    "    'Bassett Hound': 'Basset Hound',\n",
    "    'Belgian Griffon': 'Brussels Griffon',\n",
    "    'Brittany Spaniel': 'Brittany',\n",
    "    'Bull Dog, American': 'American Bulldog',\n",
    "    'Bull Dog, English': 'English Bulldog',\n",
    "    'Bull Dog, French': 'French Bulldog',\n",
    "    'Collie, Bearded ': 'Bearded Collie',\n",
    "    'Collie, Border': 'Border Collie',\n",
    "    'Collie, Rough Coat': 'Rough Coat Collie',\n",
    "    'Collie, Smooth Coat': 'Smooth Coat Collie',\n",
    "    'Coonhound, Black and Tan': 'Black and Tan Coonhound',\n",
    "    'Coonhound, Blue Tick': 'Bluetick Coonhound',\n",
    "    'Coonhound, Treeing Walker': 'Treeing Walker Coonhound',\n",
    "    'Cotton De Tulear': 'Coton de Tulear',\n",
    "    'Dachshund, Long Haired': 'Long Haired Dachshund',\n",
    "    'Dachshund, Long Haired Miniature': 'Long Haired Miniature Dachshund',\n",
    "    'Dachshund, Wirehaired': 'Wirehaired Dachshund',\n",
    "    'Dachshund, Wirehaired, Miniature': 'Wirehaired Miniature Dachshund',\n",
    "    'Dogue de Bordeaux': 'French Mastiff (Dogue de Bordeaux)',\n",
    "    'Jindo Dog, Korea': 'Jindo',\n",
    "    'Mastiff, Bull': 'Bullmastiff',\n",
    "    'Mastiff, French (Dogue de Bordeaux)': 'French Mastiff (Dogue de Bordeaux)',\n",
    "    'Mastiff, Neapolitan': 'Neapolitan Mastiff',\n",
    "    'Mastiff, Old English': 'Old English Mastiff',\n",
    "    'Mastiff, Tibetan': 'Tibetan Mastiff',\n",
    "    'Pharoh hound': 'Pharaoh Hound',\n",
    "    'Pointer, German Shorthaired': 'German Shorthaired Pointer',\n",
    "    'Pointer, German Wirehaired': 'German Wirehaired Pointer',\n",
    "    'Poodle, Miniature': 'Miniature Poodle',\n",
    "    'Poodle, Standard': 'Poodle',\n",
    "    'Poodle, Toy': 'Toy Poodle',\n",
    "    'Saint Bernard': 'St. Bernard',\n",
    "    'Schipperkee': 'Schipperke',\n",
    "    'Schnauzer, Giant': 'Giant Schnauzer',\n",
    "    'Schnauzer, Miniature': 'Miniature Schnauzer',\n",
    "    'Schnauzer, Standard': 'Standard Schnauzer',\n",
    "    'Schnauzer, Miniature Crossbreed': 'Miniature Crossbreed Schnauzer',\n",
    "    'Shar-Pei, Chinese': 'Chinese Shar-Pei',\n",
    "    'Terrier mix': 'Terrier Crossbreed',\n",
    "    'Unknown': 'Not Listed',\n",
    "    'Welsh Corgi, Cardigan': 'Cardigan Welsh Corgi',\n",
    "    'Welsh Corgi, Pembroke': 'Pembroke Welsh Corgi',\n",
    "    'West High White Terrier': 'West Highland White Terrier'\n",
    "}, inplace=True)"
   ]
  },
  {
   "cell_type": "code",
   "execution_count": 8,
   "metadata": {},
   "outputs": [],
   "source": [
    "# Clean up Borough values\n",
    "condensed_2016_df['Borough'].replace({\n",
    "    'B': 'New York (General)',\n",
    "    'Bronx ': 'Bronx',\n",
    "    'Brooklyn ': 'Brooklyn',\n",
    "    'JACKSON HGTS': 'Jackson Heights',\n",
    "    'Jackson heights ': 'Jackson Heights',\n",
    "    'kissimmee florida': 'Non-NY',\n",
    "    'Manhattan ': 'Manhattan',\n",
    "    'NEW YORK': 'New York (General)',\n",
    "    'New York ': 'New York (General)',\n",
    "    'New York  ': 'New York (General)',\n",
    "    'NEW YORK CITY': 'New York (General)',\n",
    "    'NY': 'New York (General)',\n",
    "    'NYC': 'New York (General)',\n",
    "    'SO RICHMOND': 'South Richmond Hill',\n",
    "    'South Richmond Hil': 'South Richmond Hill',\n",
    "    'STATEN IS': 'Staten Island',\n",
    "    'Staten Island, NY': 'Staten Island',\n",
    "    'Wappingers Falls, NY': 'Wappingers Falls',\n",
    "    'Woodside NY.': 'Woodside'\n",
    "}, inplace=True)\n",
    "\n",
    "condensed_2016_df['Borough'] = condensed_2016_df['Borough'].str.title()"
   ]
  },
  {
   "cell_type": "code",
   "execution_count": 9,
   "metadata": {},
   "outputs": [],
   "source": [
    "# Gather unique values of BreedName and export for manual mapping to BreedGroup\n",
    "unique_breeds_clean = condensed_2016_df['BreedName'].sort_values().unique()\n",
    "unique_breeds_clean_df = pd.DataFrame(unique_breeds_clean)\n",
    "unique_breeds_clean_df.to_csv('Resources/breed_list_clean.csv', index=False, header=False)"
   ]
  },
  {
   "cell_type": "code",
   "execution_count": 11,
   "metadata": {},
   "outputs": [],
   "source": [
    "# Create license records csv for SQL import\n",
    "condensed_2016_df.to_csv('Resources/license_records.csv', index=False)"
   ]
  }
 ],
 "metadata": {
  "kernelspec": {
   "display_name": "Python 3",
   "language": "python",
   "name": "python3"
  },
  "language_info": {
   "codemirror_mode": {
    "name": "ipython",
    "version": 3
   },
   "file_extension": ".py",
   "mimetype": "text/x-python",
   "name": "python",
   "nbconvert_exporter": "python",
   "pygments_lexer": "ipython3",
   "version": "3.7.4"
  }
 },
 "nbformat": 4,
 "nbformat_minor": 2
}
